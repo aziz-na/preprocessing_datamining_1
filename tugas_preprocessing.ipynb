{
 "cells": [
  {
   "cell_type": "markdown",
   "metadata": {},
   "source": [
    "#### Loading Necessary Libraries"
   ]
  },
  {
   "cell_type": "code",
   "execution_count": 1,
   "metadata": {},
   "outputs": [
    {
     "name": "stdout",
     "output_type": "stream",
     "text": [
      "Libraries imported.\n"
     ]
    }
   ],
   "source": [
    "import pandas as pd\n",
    "import numpy as np\n",
    "import matplotlib.pyplot as plt\n",
    "import seaborn as sns\n",
    "print(\"Libraries imported.\")"
   ]
  },
  {
   "cell_type": "markdown",
   "metadata": {},
   "source": [
    "#### Import Dataset"
   ]
  },
  {
   "cell_type": "code",
   "execution_count": 2,
   "metadata": {},
   "outputs": [
    {
     "name": "stdout",
     "output_type": "stream",
     "text": [
      "Dataset imported.\n"
     ]
    }
   ],
   "source": [
    "movie_data = pd.read_csv(\"movie_metadata.csv\")\n",
    "print(\"Dataset imported.\")"
   ]
  },
  {
   "cell_type": "markdown",
   "metadata": {},
   "source": [
    "#### Inspect Dataset"
   ]
  },
  {
   "cell_type": "code",
   "execution_count": 3,
   "metadata": {},
   "outputs": [
    {
     "data": {
      "text/html": [
       "<div>\n",
       "<style scoped>\n",
       "    .dataframe tbody tr th:only-of-type {\n",
       "        vertical-align: middle;\n",
       "    }\n",
       "\n",
       "    .dataframe tbody tr th {\n",
       "        vertical-align: top;\n",
       "    }\n",
       "\n",
       "    .dataframe thead th {\n",
       "        text-align: right;\n",
       "    }\n",
       "</style>\n",
       "<table border=\"1\" class=\"dataframe\">\n",
       "  <thead>\n",
       "    <tr style=\"text-align: right;\">\n",
       "      <th></th>\n",
       "      <th>produk_id</th>\n",
       "      <th>nama_produk</th>\n",
       "      <th>kategori</th>\n",
       "      <th>harga</th>\n",
       "      <th>rating</th>\n",
       "      <th>jumlah_ulasan</th>\n",
       "      <th>negara_asal</th>\n",
       "    </tr>\n",
       "  </thead>\n",
       "  <tbody>\n",
       "    <tr>\n",
       "      <th>0</th>\n",
       "      <td>1</td>\n",
       "      <td>Produk_1</td>\n",
       "      <td>Smartwatch</td>\n",
       "      <td>746.0</td>\n",
       "      <td>4.2</td>\n",
       "      <td>273.0</td>\n",
       "      <td>Japan</td>\n",
       "    </tr>\n",
       "    <tr>\n",
       "      <th>1</th>\n",
       "      <td>2</td>\n",
       "      <td>Produk_2</td>\n",
       "      <td>Headphone</td>\n",
       "      <td>241.0</td>\n",
       "      <td>3.5</td>\n",
       "      <td>239.0</td>\n",
       "      <td>Canada</td>\n",
       "    </tr>\n",
       "    <tr>\n",
       "      <th>2</th>\n",
       "      <td>3</td>\n",
       "      <td>Produk_3</td>\n",
       "      <td>Tablet</td>\n",
       "      <td>810.0</td>\n",
       "      <td>3.8</td>\n",
       "      <td>209.0</td>\n",
       "      <td>Canada</td>\n",
       "    </tr>\n",
       "    <tr>\n",
       "      <th>3</th>\n",
       "      <td>4</td>\n",
       "      <td>Produk_4</td>\n",
       "      <td>Headphone</td>\n",
       "      <td>303.0</td>\n",
       "      <td>3.2</td>\n",
       "      <td>59.0</td>\n",
       "      <td>South Korea</td>\n",
       "    </tr>\n",
       "    <tr>\n",
       "      <th>4</th>\n",
       "      <td>5</td>\n",
       "      <td>Produk_5</td>\n",
       "      <td>Headphone</td>\n",
       "      <td>252.0</td>\n",
       "      <td>3.7</td>\n",
       "      <td>76.0</td>\n",
       "      <td>South Korea</td>\n",
       "    </tr>\n",
       "  </tbody>\n",
       "</table>\n",
       "</div>"
      ],
      "text/plain": [
       "   produk_id nama_produk    kategori  harga  rating  jumlah_ulasan  \\\n",
       "0          1    Produk_1  Smartwatch  746.0     4.2          273.0   \n",
       "1          2    Produk_2   Headphone  241.0     3.5          239.0   \n",
       "2          3    Produk_3      Tablet  810.0     3.8          209.0   \n",
       "3          4    Produk_4   Headphone  303.0     3.2           59.0   \n",
       "4          5    Produk_5   Headphone  252.0     3.7           76.0   \n",
       "\n",
       "   negara_asal  \n",
       "0        Japan  \n",
       "1       Canada  \n",
       "2       Canada  \n",
       "3  South Korea  \n",
       "4  South Korea  "
      ]
     },
     "execution_count": 3,
     "metadata": {},
     "output_type": "execute_result"
    }
   ],
   "source": [
    "movie_data.head()"
   ]
  },
  {
   "cell_type": "code",
   "execution_count": 4,
   "metadata": {},
   "outputs": [
    {
     "data": {
      "text/html": [
       "<div>\n",
       "<style scoped>\n",
       "    .dataframe tbody tr th:only-of-type {\n",
       "        vertical-align: middle;\n",
       "    }\n",
       "\n",
       "    .dataframe tbody tr th {\n",
       "        vertical-align: top;\n",
       "    }\n",
       "\n",
       "    .dataframe thead th {\n",
       "        text-align: right;\n",
       "    }\n",
       "</style>\n",
       "<table border=\"1\" class=\"dataframe\">\n",
       "  <thead>\n",
       "    <tr style=\"text-align: right;\">\n",
       "      <th></th>\n",
       "      <th>produk_id</th>\n",
       "      <th>nama_produk</th>\n",
       "      <th>kategori</th>\n",
       "      <th>harga</th>\n",
       "      <th>rating</th>\n",
       "      <th>jumlah_ulasan</th>\n",
       "      <th>negara_asal</th>\n",
       "    </tr>\n",
       "  </thead>\n",
       "  <tbody>\n",
       "    <tr>\n",
       "      <th>545</th>\n",
       "      <td>546</td>\n",
       "      <td>Produk_546</td>\n",
       "      <td>Laptop</td>\n",
       "      <td>496.0</td>\n",
       "      <td>3.9</td>\n",
       "      <td>19.0</td>\n",
       "      <td>China</td>\n",
       "    </tr>\n",
       "    <tr>\n",
       "      <th>546</th>\n",
       "      <td>547</td>\n",
       "      <td>Produk_547</td>\n",
       "      <td>Headphone</td>\n",
       "      <td>628.0</td>\n",
       "      <td>4.7</td>\n",
       "      <td>414.0</td>\n",
       "      <td>USA</td>\n",
       "    </tr>\n",
       "    <tr>\n",
       "      <th>547</th>\n",
       "      <td>548</td>\n",
       "      <td>Produk_548</td>\n",
       "      <td>Tablet</td>\n",
       "      <td>465.0</td>\n",
       "      <td>4.3</td>\n",
       "      <td>393.0</td>\n",
       "      <td>India</td>\n",
       "    </tr>\n",
       "    <tr>\n",
       "      <th>548</th>\n",
       "      <td>549</td>\n",
       "      <td>Produk_549</td>\n",
       "      <td>Laptop</td>\n",
       "      <td>495.0</td>\n",
       "      <td>3.1</td>\n",
       "      <td>311.0</td>\n",
       "      <td>Germany</td>\n",
       "    </tr>\n",
       "    <tr>\n",
       "      <th>549</th>\n",
       "      <td>550</td>\n",
       "      <td>Produk_550</td>\n",
       "      <td>Tablet</td>\n",
       "      <td>388.0</td>\n",
       "      <td>4.3</td>\n",
       "      <td>240.0</td>\n",
       "      <td>Germany</td>\n",
       "    </tr>\n",
       "  </tbody>\n",
       "</table>\n",
       "</div>"
      ],
      "text/plain": [
       "     produk_id nama_produk   kategori  harga  rating  jumlah_ulasan  \\\n",
       "545        546  Produk_546     Laptop  496.0     3.9           19.0   \n",
       "546        547  Produk_547  Headphone  628.0     4.7          414.0   \n",
       "547        548  Produk_548     Tablet  465.0     4.3          393.0   \n",
       "548        549  Produk_549     Laptop  495.0     3.1          311.0   \n",
       "549        550  Produk_550     Tablet  388.0     4.3          240.0   \n",
       "\n",
       "    negara_asal  \n",
       "545       China  \n",
       "546         USA  \n",
       "547       India  \n",
       "548     Germany  \n",
       "549     Germany  "
      ]
     },
     "execution_count": 4,
     "metadata": {},
     "output_type": "execute_result"
    }
   ],
   "source": [
    "movie_data.tail(5)"
   ]
  },
  {
   "cell_type": "code",
   "execution_count": 5,
   "metadata": {},
   "outputs": [
    {
     "name": "stdout",
     "output_type": "stream",
     "text": [
      "<class 'pandas.core.frame.DataFrame'>\n",
      "RangeIndex: 550 entries, 0 to 549\n",
      "Data columns (total 7 columns):\n",
      " #   Column         Non-Null Count  Dtype  \n",
      "---  ------         --------------  -----  \n",
      " 0   produk_id      550 non-null    int64  \n",
      " 1   nama_produk    550 non-null    object \n",
      " 2   kategori       550 non-null    object \n",
      " 3   harga          520 non-null    float64\n",
      " 4   rating         500 non-null    float64\n",
      " 5   jumlah_ulasan  530 non-null    float64\n",
      " 6   negara_asal    550 non-null    object \n",
      "dtypes: float64(3), int64(1), object(3)\n",
      "memory usage: 30.2+ KB\n"
     ]
    }
   ],
   "source": [
    "movie_data.info()"
   ]
  },
  {
   "cell_type": "code",
   "execution_count": 6,
   "metadata": {},
   "outputs": [
    {
     "data": {
      "text/html": [
       "<div>\n",
       "<style scoped>\n",
       "    .dataframe tbody tr th:only-of-type {\n",
       "        vertical-align: middle;\n",
       "    }\n",
       "\n",
       "    .dataframe tbody tr th {\n",
       "        vertical-align: top;\n",
       "    }\n",
       "\n",
       "    .dataframe thead th {\n",
       "        text-align: right;\n",
       "    }\n",
       "</style>\n",
       "<table border=\"1\" class=\"dataframe\">\n",
       "  <thead>\n",
       "    <tr style=\"text-align: right;\">\n",
       "      <th></th>\n",
       "      <th>produk_id</th>\n",
       "      <th>harga</th>\n",
       "      <th>rating</th>\n",
       "      <th>jumlah_ulasan</th>\n",
       "    </tr>\n",
       "  </thead>\n",
       "  <tbody>\n",
       "    <tr>\n",
       "      <th>count</th>\n",
       "      <td>550.000000</td>\n",
       "      <td>520.000000</td>\n",
       "      <td>500.000000</td>\n",
       "      <td>530.000000</td>\n",
       "    </tr>\n",
       "    <tr>\n",
       "      <th>mean</th>\n",
       "      <td>275.500000</td>\n",
       "      <td>565.715385</td>\n",
       "      <td>4.005600</td>\n",
       "      <td>259.671698</td>\n",
       "    </tr>\n",
       "    <tr>\n",
       "      <th>std</th>\n",
       "      <td>158.915596</td>\n",
       "      <td>625.886725</td>\n",
       "      <td>0.571052</td>\n",
       "      <td>142.655380</td>\n",
       "    </tr>\n",
       "    <tr>\n",
       "      <th>min</th>\n",
       "      <td>1.000000</td>\n",
       "      <td>-213.000000</td>\n",
       "      <td>3.000000</td>\n",
       "      <td>12.000000</td>\n",
       "    </tr>\n",
       "    <tr>\n",
       "      <th>25%</th>\n",
       "      <td>138.250000</td>\n",
       "      <td>374.000000</td>\n",
       "      <td>3.500000</td>\n",
       "      <td>139.000000</td>\n",
       "    </tr>\n",
       "    <tr>\n",
       "      <th>50%</th>\n",
       "      <td>275.500000</td>\n",
       "      <td>516.000000</td>\n",
       "      <td>4.000000</td>\n",
       "      <td>262.500000</td>\n",
       "    </tr>\n",
       "    <tr>\n",
       "      <th>75%</th>\n",
       "      <td>412.750000</td>\n",
       "      <td>656.250000</td>\n",
       "      <td>4.500000</td>\n",
       "      <td>390.750000</td>\n",
       "    </tr>\n",
       "    <tr>\n",
       "      <th>max</th>\n",
       "      <td>550.000000</td>\n",
       "      <td>8341.000000</td>\n",
       "      <td>5.000000</td>\n",
       "      <td>499.000000</td>\n",
       "    </tr>\n",
       "  </tbody>\n",
       "</table>\n",
       "</div>"
      ],
      "text/plain": [
       "        produk_id        harga      rating  jumlah_ulasan\n",
       "count  550.000000   520.000000  500.000000     530.000000\n",
       "mean   275.500000   565.715385    4.005600     259.671698\n",
       "std    158.915596   625.886725    0.571052     142.655380\n",
       "min      1.000000  -213.000000    3.000000      12.000000\n",
       "25%    138.250000   374.000000    3.500000     139.000000\n",
       "50%    275.500000   516.000000    4.000000     262.500000\n",
       "75%    412.750000   656.250000    4.500000     390.750000\n",
       "max    550.000000  8341.000000    5.000000     499.000000"
      ]
     },
     "execution_count": 6,
     "metadata": {},
     "output_type": "execute_result"
    }
   ],
   "source": [
    "movie_data.describe()"
   ]
  },
  {
   "cell_type": "markdown",
   "metadata": {},
   "source": [
    "#### Finding Missing Values"
   ]
  },
  {
   "cell_type": "code",
   "execution_count": 7,
   "metadata": {},
   "outputs": [
    {
     "data": {
      "text/html": [
       "<div>\n",
       "<style scoped>\n",
       "    .dataframe tbody tr th:only-of-type {\n",
       "        vertical-align: middle;\n",
       "    }\n",
       "\n",
       "    .dataframe tbody tr th {\n",
       "        vertical-align: top;\n",
       "    }\n",
       "\n",
       "    .dataframe thead th {\n",
       "        text-align: right;\n",
       "    }\n",
       "</style>\n",
       "<table border=\"1\" class=\"dataframe\">\n",
       "  <thead>\n",
       "    <tr style=\"text-align: right;\">\n",
       "      <th></th>\n",
       "      <th>produk_id</th>\n",
       "      <th>nama_produk</th>\n",
       "      <th>kategori</th>\n",
       "      <th>harga</th>\n",
       "      <th>rating</th>\n",
       "      <th>jumlah_ulasan</th>\n",
       "      <th>negara_asal</th>\n",
       "    </tr>\n",
       "  </thead>\n",
       "  <tbody>\n",
       "    <tr>\n",
       "      <th>0</th>\n",
       "      <td>False</td>\n",
       "      <td>False</td>\n",
       "      <td>False</td>\n",
       "      <td>False</td>\n",
       "      <td>False</td>\n",
       "      <td>False</td>\n",
       "      <td>False</td>\n",
       "    </tr>\n",
       "    <tr>\n",
       "      <th>1</th>\n",
       "      <td>False</td>\n",
       "      <td>False</td>\n",
       "      <td>False</td>\n",
       "      <td>False</td>\n",
       "      <td>False</td>\n",
       "      <td>False</td>\n",
       "      <td>False</td>\n",
       "    </tr>\n",
       "    <tr>\n",
       "      <th>2</th>\n",
       "      <td>False</td>\n",
       "      <td>False</td>\n",
       "      <td>False</td>\n",
       "      <td>False</td>\n",
       "      <td>False</td>\n",
       "      <td>False</td>\n",
       "      <td>False</td>\n",
       "    </tr>\n",
       "    <tr>\n",
       "      <th>3</th>\n",
       "      <td>False</td>\n",
       "      <td>False</td>\n",
       "      <td>False</td>\n",
       "      <td>False</td>\n",
       "      <td>False</td>\n",
       "      <td>False</td>\n",
       "      <td>False</td>\n",
       "    </tr>\n",
       "    <tr>\n",
       "      <th>4</th>\n",
       "      <td>False</td>\n",
       "      <td>False</td>\n",
       "      <td>False</td>\n",
       "      <td>False</td>\n",
       "      <td>False</td>\n",
       "      <td>False</td>\n",
       "      <td>False</td>\n",
       "    </tr>\n",
       "    <tr>\n",
       "      <th>...</th>\n",
       "      <td>...</td>\n",
       "      <td>...</td>\n",
       "      <td>...</td>\n",
       "      <td>...</td>\n",
       "      <td>...</td>\n",
       "      <td>...</td>\n",
       "      <td>...</td>\n",
       "    </tr>\n",
       "    <tr>\n",
       "      <th>545</th>\n",
       "      <td>False</td>\n",
       "      <td>False</td>\n",
       "      <td>False</td>\n",
       "      <td>False</td>\n",
       "      <td>False</td>\n",
       "      <td>False</td>\n",
       "      <td>False</td>\n",
       "    </tr>\n",
       "    <tr>\n",
       "      <th>546</th>\n",
       "      <td>False</td>\n",
       "      <td>False</td>\n",
       "      <td>False</td>\n",
       "      <td>False</td>\n",
       "      <td>False</td>\n",
       "      <td>False</td>\n",
       "      <td>False</td>\n",
       "    </tr>\n",
       "    <tr>\n",
       "      <th>547</th>\n",
       "      <td>False</td>\n",
       "      <td>False</td>\n",
       "      <td>False</td>\n",
       "      <td>False</td>\n",
       "      <td>False</td>\n",
       "      <td>False</td>\n",
       "      <td>False</td>\n",
       "    </tr>\n",
       "    <tr>\n",
       "      <th>548</th>\n",
       "      <td>False</td>\n",
       "      <td>False</td>\n",
       "      <td>False</td>\n",
       "      <td>False</td>\n",
       "      <td>False</td>\n",
       "      <td>False</td>\n",
       "      <td>False</td>\n",
       "    </tr>\n",
       "    <tr>\n",
       "      <th>549</th>\n",
       "      <td>False</td>\n",
       "      <td>False</td>\n",
       "      <td>False</td>\n",
       "      <td>False</td>\n",
       "      <td>False</td>\n",
       "      <td>False</td>\n",
       "      <td>False</td>\n",
       "    </tr>\n",
       "  </tbody>\n",
       "</table>\n",
       "<p>550 rows × 7 columns</p>\n",
       "</div>"
      ],
      "text/plain": [
       "     produk_id  nama_produk  kategori  harga  rating  jumlah_ulasan  \\\n",
       "0        False        False     False  False   False          False   \n",
       "1        False        False     False  False   False          False   \n",
       "2        False        False     False  False   False          False   \n",
       "3        False        False     False  False   False          False   \n",
       "4        False        False     False  False   False          False   \n",
       "..         ...          ...       ...    ...     ...            ...   \n",
       "545      False        False     False  False   False          False   \n",
       "546      False        False     False  False   False          False   \n",
       "547      False        False     False  False   False          False   \n",
       "548      False        False     False  False   False          False   \n",
       "549      False        False     False  False   False          False   \n",
       "\n",
       "     negara_asal  \n",
       "0          False  \n",
       "1          False  \n",
       "2          False  \n",
       "3          False  \n",
       "4          False  \n",
       "..           ...  \n",
       "545        False  \n",
       "546        False  \n",
       "547        False  \n",
       "548        False  \n",
       "549        False  \n",
       "\n",
       "[550 rows x 7 columns]"
      ]
     },
     "execution_count": 7,
     "metadata": {},
     "output_type": "execute_result"
    }
   ],
   "source": [
    "movie_data.isnull()"
   ]
  },
  {
   "cell_type": "code",
   "execution_count": 8,
   "metadata": {},
   "outputs": [
    {
     "data": {
      "text/plain": [
       "produk_id         0\n",
       "nama_produk       0\n",
       "kategori          0\n",
       "harga            30\n",
       "rating           50\n",
       "jumlah_ulasan    20\n",
       "negara_asal       0\n",
       "dtype: int64"
      ]
     },
     "execution_count": 8,
     "metadata": {},
     "output_type": "execute_result"
    }
   ],
   "source": [
    "np.sum(movie_data.isnull(), axis=0)"
   ]
  },
  {
   "cell_type": "markdown",
   "metadata": {},
   "source": [
    "Didapat beberapa missing value pada variabel harga, rating, dan jumlah_ulasan."
   ]
  },
  {
   "cell_type": "code",
   "execution_count": 9,
   "metadata": {},
   "outputs": [
    {
     "data": {
      "text/plain": [
       "100"
      ]
     },
     "execution_count": 9,
     "metadata": {},
     "output_type": "execute_result"
    }
   ],
   "source": [
    "# Kalkulasi jumlah null value\n",
    "movie_data.isnull().sum().sum()"
   ]
  },
  {
   "cell_type": "markdown",
   "metadata": {},
   "source": [
    "#### Handling Missing Values"
   ]
  },
  {
   "cell_type": "markdown",
   "metadata": {},
   "source": [
    "Jika terdapat missing value pada dataset yang tidak ditangani, proses analisis akan terhambat atau hasil analisis dapat mengalami skew atau bias yang mengakibatkan kesimpulan yang ditarik menjadi salah. <br/>\n",
    "Beberapa algoritma analisis bahkan dapat memunculkan error jika terdapat nilai NA. Hal ini dapat menghambat proses analisis."
   ]
  },
  {
   "cell_type": "markdown",
   "metadata": {},
   "source": [
    "##### Variabel harga"
   ]
  },
  {
   "cell_type": "code",
   "execution_count": 10,
   "metadata": {},
   "outputs": [
    {
     "data": {
      "text/plain": [
       "30"
      ]
     },
     "execution_count": 10,
     "metadata": {},
     "output_type": "execute_result"
    }
   ],
   "source": [
    "np.sum(movie_data['harga'].isnull())"
   ]
  },
  {
   "cell_type": "code",
   "execution_count": 11,
   "metadata": {},
   "outputs": [
    {
     "data": {
      "text/plain": [
       "<Axes: xlabel='harga', ylabel='Count'>"
      ]
     },
     "execution_count": 11,
     "metadata": {},
     "output_type": "execute_result"
    },
    {
     "data": {
      "image/png": "[encoded data removed]",
      "text/plain": [
       "<Figure size 640x480 with 1 Axes>"
      ]
     },
     "metadata": {},
     "output_type": "display_data"
    }
   ],
   "source": [
    "# Lihat grafik distribusi variabel harga\n",
    "sns.histplot(movie_data['harga'])"
   ]
  },
  {
   "cell_type": "markdown",
   "metadata": {},
   "source": [
    "Berdasarkan grafik di atas, distribusi variabel cenderung normal dengan beberapa outlier bernilai di atas 5000. <br/>\n",
    "Karena adanya outlier, dapat disimpulkan bahwa metode pengisian nilai n.a. paling tepat adalah dengan median."
   ]
  },
  {
   "cell_type": "code",
   "execution_count": 12,
   "metadata": {},
   "outputs": [],
   "source": [
    "# Pengisian nilai n.a. dari variabel harga dengan metode median\n",
    "movie_data['harga']=movie_data['harga'].fillna(movie_data['harga'].median())"
   ]
  },
  {
   "cell_type": "code",
   "execution_count": 13,
   "metadata": {},
   "outputs": [
    {
     "data": {
      "text/plain": [
       "0"
      ]
     },
     "execution_count": 13,
     "metadata": {},
     "output_type": "execute_result"
    }
   ],
   "source": [
    "# Cek missing value\n",
    "np.sum(movie_data['harga'].isnull())"
   ]
  },
  {
   "cell_type": "markdown",
   "metadata": {},
   "source": [
    "##### Variabel rating"
   ]
  },
  {
   "cell_type": "code",
   "execution_count": 14,
   "metadata": {},
   "outputs": [
    {
     "data": {
      "text/plain": [
       "50"
      ]
     },
     "execution_count": 14,
     "metadata": {},
     "output_type": "execute_result"
    }
   ],
   "source": [
    "np.sum(movie_data['rating'].isnull())"
   ]
  },
  {
   "cell_type": "code",
   "execution_count": 15,
   "metadata": {},
   "outputs": [
    {
     "data": {
      "text/plain": [
       "<Axes: xlabel='rating', ylabel='Count'>"
      ]
     },
     "execution_count": 15,
     "metadata": {},
     "output_type": "execute_result"
    },
    {
     "data": {
      "image/png": "[encoded data removed]",
      "text/plain": [
       "<Figure size 640x480 with 1 Axes>"
      ]
     },
     "metadata": {},
     "output_type": "display_data"
    }
   ],
   "source": [
    "# Lihat grafik distribusi variabel rating\n",
    "sns.histplot(movie_data['rating'])"
   ]
  },
  {
   "cell_type": "markdown",
   "metadata": {},
   "source": [
    "Berdasarkan grafik di atas, distribusi variabel cenderung rata tanpa outlier. <br/>\n",
    "Karena tidak adanya outlier dan tidak ada nilai yang mendominasi, maka dapat disimpulkan bahwa pengisian nilai n.a. baiknya menggunakan metode mean."
   ]
  },
  {
   "cell_type": "code",
   "execution_count": 16,
   "metadata": {},
   "outputs": [],
   "source": [
    "# Pengisian nilai n.a. dari variabel rating dengan metode mean\n",
    "movie_data['rating']=movie_data['rating'].fillna(movie_data['rating'].mean())"
   ]
  },
  {
   "cell_type": "code",
   "execution_count": 17,
   "metadata": {},
   "outputs": [
    {
     "data": {
      "text/plain": [
       "0"
      ]
     },
     "execution_count": 17,
     "metadata": {},
     "output_type": "execute_result"
    }
   ],
   "source": [
    "# Cek missing value\n",
    "np.sum(movie_data['harga'].isnull())"
   ]
  },
  {
   "cell_type": "markdown",
   "metadata": {},
   "source": [
    "##### Variabel jumlah_ulasan"
   ]
  },
  {
   "cell_type": "code",
   "execution_count": 18,
   "metadata": {},
   "outputs": [
    {
     "data": {
      "text/plain": [
       "20"
      ]
     },
     "execution_count": 18,
     "metadata": {},
     "output_type": "execute_result"
    }
   ],
   "source": [
    "np.sum(movie_data['jumlah_ulasan'].isnull())"
   ]
  },
  {
   "cell_type": "code",
   "execution_count": 19,
   "metadata": {},
   "outputs": [
    {
     "data": {
      "text/plain": [
       "<Axes: xlabel='jumlah_ulasan', ylabel='Count'>"
      ]
     },
     "execution_count": 19,
     "metadata": {},
     "output_type": "execute_result"
    },
    {
     "data": {
      "image/png": "[encoded data removed]",
      "text/plain": [
       "<Figure size 640x480 with 1 Axes>"
      ]
     },
     "metadata": {},
     "output_type": "display_data"
    }
   ],
   "source": [
    "# Lihat grafik distribusi variabel jumlah_ulasan\n",
    "sns.histplot(movie_data['jumlah_ulasan'])"
   ]
  },
  {
   "cell_type": "markdown",
   "metadata": {},
   "source": [
    "Berdasarkan grafik di atas, distribusi variabel cenderung rata tanpa outlier. <br/>\n",
    "Karena tidak adanya outlier dan tidak ada nilai yang mendominasi, maka dapat disimpulkan bahwa pengisian nilai n.a. baiknya menggunakan metode mean."
   ]
  },
  {
   "cell_type": "code",
   "execution_count": 20,
   "metadata": {},
   "outputs": [],
   "source": [
    "# Pengisian nilai n.a. dari variabel jumlah_ulasan dengan metode mean\n",
    "movie_data['rating']=movie_data['rating'].fillna(movie_data['rating'].mean())"
   ]
  },
  {
   "cell_type": "code",
   "execution_count": 21,
   "metadata": {},
   "outputs": [
    {
     "data": {
      "text/plain": [
       "20"
      ]
     },
     "execution_count": 21,
     "metadata": {},
     "output_type": "execute_result"
    }
   ],
   "source": [
    "# Cek missing value\n",
    "np.sum(movie_data['jumlah_ulasan'].isnull())"
   ]
  },
  {
   "cell_type": "markdown",
   "metadata": {},
   "source": [
    "#### Finding Outliers"
   ]
  },
  {
   "cell_type": "code",
   "execution_count": 22,
   "metadata": {},
   "outputs": [
    {
     "data": {
      "image/png": "[encoded data removed]",
      "text/plain": [
       "<Figure size 1500x800 with 7 Axes>"
      ]
     },
     "metadata": {},
     "output_type": "display_data"
    }
   ],
   "source": [
    "# Identifikasi outlier pada dataset dengan menggunakan boxplot\n",
    "num_cols = [\n",
    "    'produk_id',\n",
    "    'nama_produk',\n",
    "    'kategori',\n",
    "    'harga',\n",
    "    'rating',\n",
    "    'jumlah_ulasan',\n",
    "    'negara_asal'\n",
    "]\n",
    "\n",
    "plt.figure(figsize=(15, 8))\n",
    "for i, col in enumerate(num_cols, 1):\n",
    "    plt.subplot(3, 4, i)\n",
    "    sns.boxplot(y=movie_data[col])\n",
    "    plt.title(col)\n",
    "plt.tight_layout()\n",
    "plt.show()"
   ]
  },
  {
   "cell_type": "markdown",
   "metadata": {},
   "source": [
    "Berdasarkan boxplot di atas, didapat bahwa variabel harga memiliki outlier. <br/>\n",
    "Keberadaan outlier dapat mendistorsi ukuran statistik dan mengganggu model prediktif yang digunakan pada analisis. <br/>\n",
    "Di sisi lain, terkadang adanya outlier mengungkap fenomena unik yang perlu dianalisis lebih lanjut."
   ]
  },
  {
   "cell_type": "markdown",
   "metadata": {},
   "source": [
    "#### Handling Outliers"
   ]
  },
  {
   "cell_type": "markdown",
   "metadata": {},
   "source": [
    "Pada variabel harga, terdapat outlier yang jauh di atas median dan jauh di bawah median. <br/>\n",
    "Berdasarkan boxplot di atas, outlier nampak banyak dan terkumpul pada jangkauan tertentu dan tidak tersebar merata. <br/>\n",
    "Kemungkinan outlier-outlier ini menunjukkan semacam pola sehingga sebaiknya tidak dihapus. <br/>\n",
    "Maka, disimpulkan bahwa metode penanganan outlier yang tepat adalah winsorizing(mengganti outlier dengan batas IQR)."
   ]
  },
  {
   "cell_type": "code",
   "execution_count": 23,
   "metadata": {},
   "outputs": [],
   "source": [
    "def winsorize_iqr(data, column):\n",
    "    Q1 = data[column].quantile(0.25)\n",
    "    Q3 = data[column].quantile(0.75)\n",
    "    IQR = Q3 - Q1\n",
    "    lower_bound = Q1 - 1.5 * IQR\n",
    "    upper_bound = Q3 + 1.5 * IQR\n",
    "    data[column] = np.where(data[column] < lower_bound, lower_bound, data[column])\n",
    "    data[column] = np.where(data[column] > upper_bound, upper_bound, data[column])\n",
    "\n",
    "# Terapkan Winsorizing pada variabel/kolom harga\n",
    "winsorize_iqr(movie_data, 'harga')"
   ]
  },
  {
   "cell_type": "code",
   "execution_count": 24,
   "metadata": {},
   "outputs": [
    {
     "data": {
      "image/png": "[encoded data removed]",
      "text/plain": [
       "<Figure size 1500x800 with 7 Axes>"
      ]
     },
     "metadata": {},
     "output_type": "display_data"
    }
   ],
   "source": [
    "# Visualisasi Boxplot\n",
    "plt.figure(figsize=(15, 8))\n",
    "for i, col in enumerate(num_cols, 1):\n",
    "    plt.subplot(3, 4, i)\n",
    "    sns.boxplot(y=movie_data[col])\n",
    "    plt.title(col)\n",
    "plt.tight_layout()\n",
    "plt.show()"
   ]
  },
  {
   "cell_type": "markdown",
   "metadata": {},
   "source": [
    "#### Finding and Handling Categorical Variables"
   ]
  },
  {
   "cell_type": "markdown",
   "metadata": {},
   "source": [
    "##### Identifikasi Variabel Kategorik"
   ]
  },
  {
   "cell_type": "code",
   "execution_count": 25,
   "metadata": {},
   "outputs": [
    {
     "name": "stdout",
     "output_type": "stream",
     "text": [
      "<class 'pandas.core.frame.DataFrame'>\n",
      "RangeIndex: 550 entries, 0 to 549\n",
      "Data columns (total 7 columns):\n",
      " #   Column         Non-Null Count  Dtype  \n",
      "---  ------         --------------  -----  \n",
      " 0   produk_id      550 non-null    int64  \n",
      " 1   nama_produk    550 non-null    object \n",
      " 2   kategori       550 non-null    object \n",
      " 3   harga          550 non-null    float64\n",
      " 4   rating         550 non-null    float64\n",
      " 5   jumlah_ulasan  530 non-null    float64\n",
      " 6   negara_asal    550 non-null    object \n",
      "dtypes: float64(3), int64(1), object(3)\n",
      "memory usage: 30.2+ KB\n"
     ]
    }
   ],
   "source": [
    "movie_data.info()"
   ]
  },
  {
   "cell_type": "markdown",
   "metadata": {},
   "source": [
    "Berdasarkan output di atas, didapat variabel nama_produk, kategori, dan negara_asal yang bukan merupakan tipe data angka. <br/>\n",
    "Berikut akan dilakukan cek satu-persatu apakah variabel tersebut merupakan tipe kategorik atau bukan."
   ]
  },
  {
   "cell_type": "code",
   "execution_count": 26,
   "metadata": {},
   "outputs": [
    {
     "data": {
      "text/plain": [
       "array(['Produk_1', 'Produk_2', 'Produk_3', 'Produk_4', 'Produk_5',\n",
       "       'Produk_6', 'Produk_7', 'Produk_8', 'Produk_9', 'Produk_10',\n",
       "       'Produk_11', 'Produk_12', 'Produk_13', 'Produk_14', 'Produk_15',\n",
       "       'Produk_16', 'Produk_17', 'Produk_18', 'Produk_19', 'Produk_20',\n",
       "       'Produk_21', 'Produk_22', 'Produk_23', 'Produk_24', 'Produk_25',\n",
       "       'Produk_26', 'Produk_27', 'Produk_28', 'Produk_29', 'Produk_30',\n",
       "       'Produk_31', 'Produk_32', 'Produk_33', 'Produk_34', 'Produk_35',\n",
       "       'Produk_36', 'Produk_37', 'Produk_38', 'Produk_39', 'Produk_40',\n",
       "       'Produk_41', 'Produk_42', 'Produk_43', 'Produk_44', 'Produk_45',\n",
       "       'Produk_46', 'Produk_47', 'Produk_48', 'Produk_49', 'Produk_50',\n",
       "       'Produk_51', 'Produk_52', 'Produk_53', 'Produk_54', 'Produk_55',\n",
       "       'Produk_56', 'Produk_57', 'Produk_58', 'Produk_59', 'Produk_60',\n",
       "       'Produk_61', 'Produk_62', 'Produk_63', 'Produk_64', 'Produk_65',\n",
       "       'Produk_66', 'Produk_67', 'Produk_68', 'Produk_69', 'Produk_70',\n",
       "       'Produk_71', 'Produk_72', 'Produk_73', 'Produk_74', 'Produk_75',\n",
       "       'Produk_76', 'Produk_77', 'Produk_78', 'Produk_79', 'Produk_80',\n",
       "       'Produk_81', 'Produk_82', 'Produk_83', 'Produk_84', 'Produk_85',\n",
       "       'Produk_86', 'Produk_87', 'Produk_88', 'Produk_89', 'Produk_90',\n",
       "       'Produk_91', 'Produk_92', 'Produk_93', 'Produk_94', 'Produk_95',\n",
       "       'Produk_96', 'Produk_97', 'Produk_98', 'Produk_99', 'Produk_100',\n",
       "       'Produk_101', 'Produk_102', 'Produk_103', 'Produk_104',\n",
       "       'Produk_105', 'Produk_106', 'Produk_107', 'Produk_108',\n",
       "       'Produk_109', 'Produk_110', 'Produk_111', 'Produk_112',\n",
       "       'Produk_113', 'Produk_114', 'Produk_115', 'Produk_116',\n",
       "       'Produk_117', 'Produk_118', 'Produk_119', 'Produk_120',\n",
       "       'Produk_121', 'Produk_122', 'Produk_123', 'Produk_124',\n",
       "       'Produk_125', 'Produk_126', 'Produk_127', 'Produk_128',\n",
       "       'Produk_129', 'Produk_130', 'Produk_131', 'Produk_132',\n",
       "       'Produk_133', 'Produk_134', 'Produk_135', 'Produk_136',\n",
       "       'Produk_137', 'Produk_138', 'Produk_139', 'Produk_140',\n",
       "       'Produk_141', 'Produk_142', 'Produk_143', 'Produk_144',\n",
       "       'Produk_145', 'Produk_146', 'Produk_147', 'Produk_148',\n",
       "       'Produk_149', 'Produk_150', 'Produk_151', 'Produk_152',\n",
       "       'Produk_153', 'Produk_154', 'Produk_155', 'Produk_156',\n",
       "       'Produk_157', 'Produk_158', 'Produk_159', 'Produk_160',\n",
       "       'Produk_161', 'Produk_162', 'Produk_163', 'Produk_164',\n",
       "       'Produk_165', 'Produk_166', 'Produk_167', 'Produk_168',\n",
       "       'Produk_169', 'Produk_170', 'Produk_171', 'Produk_172',\n",
       "       'Produk_173', 'Produk_174', 'Produk_175', 'Produk_176',\n",
       "       'Produk_177', 'Produk_178', 'Produk_179', 'Produk_180',\n",
       "       'Produk_181', 'Produk_182', 'Produk_183', 'Produk_184',\n",
       "       'Produk_185', 'Produk_186', 'Produk_187', 'Produk_188',\n",
       "       'Produk_189', 'Produk_190', 'Produk_191', 'Produk_192',\n",
       "       'Produk_193', 'Produk_194', 'Produk_195', 'Produk_196',\n",
       "       'Produk_197', 'Produk_198', 'Produk_199', 'Produk_200',\n",
       "       'Produk_201', 'Produk_202', 'Produk_203', 'Produk_204',\n",
       "       'Produk_205', 'Produk_206', 'Produk_207', 'Produk_208',\n",
       "       'Produk_209', 'Produk_210', 'Produk_211', 'Produk_212',\n",
       "       'Produk_213', 'Produk_214', 'Produk_215', 'Produk_216',\n",
       "       'Produk_217', 'Produk_218', 'Produk_219', 'Produk_220',\n",
       "       'Produk_221', 'Produk_222', 'Produk_223', 'Produk_224',\n",
       "       'Produk_225', 'Produk_226', 'Produk_227', 'Produk_228',\n",
       "       'Produk_229', 'Produk_230', 'Produk_231', 'Produk_232',\n",
       "       'Produk_233', 'Produk_234', 'Produk_235', 'Produk_236',\n",
       "       'Produk_237', 'Produk_238', 'Produk_239', 'Produk_240',\n",
       "       'Produk_241', 'Produk_242', 'Produk_243', 'Produk_244',\n",
       "       'Produk_245', 'Produk_246', 'Produk_247', 'Produk_248',\n",
       "       'Produk_249', 'Produk_250', 'Produk_251', 'Produk_252',\n",
       "       'Produk_253', 'Produk_254', 'Produk_255', 'Produk_256',\n",
       "       'Produk_257', 'Produk_258', 'Produk_259', 'Produk_260',\n",
       "       'Produk_261', 'Produk_262', 'Produk_263', 'Produk_264',\n",
       "       'Produk_265', 'Produk_266', 'Produk_267', 'Produk_268',\n",
       "       'Produk_269', 'Produk_270', 'Produk_271', 'Produk_272',\n",
       "       'Produk_273', 'Produk_274', 'Produk_275', 'Produk_276',\n",
       "       'Produk_277', 'Produk_278', 'Produk_279', 'Produk_280',\n",
       "       'Produk_281', 'Produk_282', 'Produk_283', 'Produk_284',\n",
       "       'Produk_285', 'Produk_286', 'Produk_287', 'Produk_288',\n",
       "       'Produk_289', 'Produk_290', 'Produk_291', 'Produk_292',\n",
       "       'Produk_293', 'Produk_294', 'Produk_295', 'Produk_296',\n",
       "       'Produk_297', 'Produk_298', 'Produk_299', 'Produk_300',\n",
       "       'Produk_301', 'Produk_302', 'Produk_303', 'Produk_304',\n",
       "       'Produk_305', 'Produk_306', 'Produk_307', 'Produk_308',\n",
       "       'Produk_309', 'Produk_310', 'Produk_311', 'Produk_312',\n",
       "       'Produk_313', 'Produk_314', 'Produk_315', 'Produk_316',\n",
       "       'Produk_317', 'Produk_318', 'Produk_319', 'Produk_320',\n",
       "       'Produk_321', 'Produk_322', 'Produk_323', 'Produk_324',\n",
       "       'Produk_325', 'Produk_326', 'Produk_327', 'Produk_328',\n",
       "       'Produk_329', 'Produk_330', 'Produk_331', 'Produk_332',\n",
       "       'Produk_333', 'Produk_334', 'Produk_335', 'Produk_336',\n",
       "       'Produk_337', 'Produk_338', 'Produk_339', 'Produk_340',\n",
       "       'Produk_341', 'Produk_342', 'Produk_343', 'Produk_344',\n",
       "       'Produk_345', 'Produk_346', 'Produk_347', 'Produk_348',\n",
       "       'Produk_349', 'Produk_350', 'Produk_351', 'Produk_352',\n",
       "       'Produk_353', 'Produk_354', 'Produk_355', 'Produk_356',\n",
       "       'Produk_357', 'Produk_358', 'Produk_359', 'Produk_360',\n",
       "       'Produk_361', 'Produk_362', 'Produk_363', 'Produk_364',\n",
       "       'Produk_365', 'Produk_366', 'Produk_367', 'Produk_368',\n",
       "       'Produk_369', 'Produk_370', 'Produk_371', 'Produk_372',\n",
       "       'Produk_373', 'Produk_374', 'Produk_375', 'Produk_376',\n",
       "       'Produk_377', 'Produk_378', 'Produk_379', 'Produk_380',\n",
       "       'Produk_381', 'Produk_382', 'Produk_383', 'Produk_384',\n",
       "       'Produk_385', 'Produk_386', 'Produk_387', 'Produk_388',\n",
       "       'Produk_389', 'Produk_390', 'Produk_391', 'Produk_392',\n",
       "       'Produk_393', 'Produk_394', 'Produk_395', 'Produk_396',\n",
       "       'Produk_397', 'Produk_398', 'Produk_399', 'Produk_400',\n",
       "       'Produk_401', 'Produk_402', 'Produk_403', 'Produk_404',\n",
       "       'Produk_405', 'Produk_406', 'Produk_407', 'Produk_408',\n",
       "       'Produk_409', 'Produk_410', 'Produk_411', 'Produk_412',\n",
       "       'Produk_413', 'Produk_414', 'Produk_415', 'Produk_416',\n",
       "       'Produk_417', 'Produk_418', 'Produk_419', 'Produk_420',\n",
       "       'Produk_421', 'Produk_422', 'Produk_423', 'Produk_424',\n",
       "       'Produk_425', 'Produk_426', 'Produk_427', 'Produk_428',\n",
       "       'Produk_429', 'Produk_430', 'Produk_431', 'Produk_432',\n",
       "       'Produk_433', 'Produk_434', 'Produk_435', 'Produk_436',\n",
       "       'Produk_437', 'Produk_438', 'Produk_439', 'Produk_440',\n",
       "       'Produk_441', 'Produk_442', 'Produk_443', 'Produk_444',\n",
       "       'Produk_445', 'Produk_446', 'Produk_447', 'Produk_448',\n",
       "       'Produk_449', 'Produk_450', 'Produk_451', 'Produk_452',\n",
       "       'Produk_453', 'Produk_454', 'Produk_455', 'Produk_456',\n",
       "       'Produk_457', 'Produk_458', 'Produk_459', 'Produk_460',\n",
       "       'Produk_461', 'Produk_462', 'Produk_463', 'Produk_464',\n",
       "       'Produk_465', 'Produk_466', 'Produk_467', 'Produk_468',\n",
       "       'Produk_469', 'Produk_470', 'Produk_471', 'Produk_472',\n",
       "       'Produk_473', 'Produk_474', 'Produk_475', 'Produk_476',\n",
       "       'Produk_477', 'Produk_478', 'Produk_479', 'Produk_480',\n",
       "       'Produk_481', 'Produk_482', 'Produk_483', 'Produk_484',\n",
       "       'Produk_485', 'Produk_486', 'Produk_487', 'Produk_488',\n",
       "       'Produk_489', 'Produk_490', 'Produk_491', 'Produk_492',\n",
       "       'Produk_493', 'Produk_494', 'Produk_495', 'Produk_496',\n",
       "       'Produk_497', 'Produk_498', 'Produk_499', 'Produk_500',\n",
       "       'Produk_501', 'Produk_502', 'Produk_503', 'Produk_504',\n",
       "       'Produk_505', 'Produk_506', 'Produk_507', 'Produk_508',\n",
       "       'Produk_509', 'Produk_510', 'Produk_511', 'Produk_512',\n",
       "       'Produk_513', 'Produk_514', 'Produk_515', 'Produk_516',\n",
       "       'Produk_517', 'Produk_518', 'Produk_519', 'Produk_520',\n",
       "       'Produk_521', 'Produk_522', 'Produk_523', 'Produk_524',\n",
       "       'Produk_525', 'Produk_526', 'Produk_527', 'Produk_528',\n",
       "       'Produk_529', 'Produk_530', 'Produk_531', 'Produk_532',\n",
       "       'Produk_533', 'Produk_534', 'Produk_535', 'Produk_536',\n",
       "       'Produk_537', 'Produk_538', 'Produk_539', 'Produk_540',\n",
       "       'Produk_541', 'Produk_542', 'Produk_543', 'Produk_544',\n",
       "       'Produk_545', 'Produk_546', 'Produk_547', 'Produk_548',\n",
       "       'Produk_549', 'Produk_550'], dtype=object)"
      ]
     },
     "execution_count": 26,
     "metadata": {},
     "output_type": "execute_result"
    }
   ],
   "source": [
    "movie_data['nama_produk'].unique()"
   ]
  },
  {
   "cell_type": "markdown",
   "metadata": {},
   "source": [
    "Dapat disimpulkan bahwa variabel nama_produk bukanlah variabel kategorik. <br/>\n",
    "Hal ini karena banyak produk sama dengan banyak baris pada dataset (550)."
   ]
  },
  {
   "cell_type": "code",
   "execution_count": 27,
   "metadata": {},
   "outputs": [
    {
     "name": "stdout",
     "output_type": "stream",
     "text": [
      "['Smartwatch' 'Headphone' 'Tablet' 'Laptop' 'Camera' 'Smartphone']\n",
      "Banyak kategori unik : 6\n"
     ]
    }
   ],
   "source": [
    "kat_unik = movie_data['kategori'].unique()\n",
    "print(kat_unik)\n",
    "print(\"Banyak kategori unik : \" + str(np.count_nonzero(kat_unik)))"
   ]
  },
  {
   "cell_type": "markdown",
   "metadata": {},
   "source": [
    "Sama seperti pada boxplot, nampaknya variabel kategori memanglah variabel bertipe kategorik."
   ]
  },
  {
   "cell_type": "code",
   "execution_count": 28,
   "metadata": {},
   "outputs": [
    {
     "name": "stdout",
     "output_type": "stream",
     "text": [
      "['Japan' 'Canada' 'South Korea' 'France' 'USA' 'Germany' 'China' 'India'\n",
      " 'UK']\n",
      "Banyak kategori unik : 9\n"
     ]
    }
   ],
   "source": [
    "asal_unik = movie_data['negara_asal'].unique()\n",
    "print(asal_unik)\n",
    "print(\"Banyak kategori unik : \" + str(np.count_nonzero(asal_unik)))"
   ]
  },
  {
   "cell_type": "markdown",
   "metadata": {},
   "source": [
    "Begitupun pada variabel negara_asal, yang juga merupakan variabel kategorik.\n",
    "\n",
    "Jadi, dapat disimpulkan bahwa variabel kategori dan negara_asal perlu di-encoding."
   ]
  },
  {
   "cell_type": "markdown",
   "metadata": {},
   "source": [
    "##### Proses Encoding"
   ]
  },
  {
   "cell_type": "markdown",
   "metadata": {},
   "source": [
    "Ordinal atau nominal :\n",
    "- Variabel kategori jelas merupakan tipe nominal karena tidak terdapat hubungan bertingkat antar kategori. <br/>\n",
    "- Variabel negara_asal juga bukan tipe ordinal, melainkan nominal karena tidak ada hubungan bertingkat antar negara.\n",
    "\n",
    "Banyak kategori unik :\n",
    "- Variabel kategori memiliki 6 kategori unik, maka penggunaan one-hot encoding masih memungkinkan karena tidak menghasilkan terlalu banyak variabel baru.\n",
    "- Variabel negara_asal memiliki 9 kategori unik. Mungkin perlu dilakukan encoding non-ordinal yang menghasilkan variabel baru yang lebih sedikit dari one-hot encoding seperti binary encoding.\n",
    "\n",
    "Karena belum dapat dibuktikan hubungan statistik yang kuat antara kategori dengan suatu variabel, maka penggunaan target encoding masih belum memungkinkan. <br/>\n",
    "\n",
    "Jadi, dapat disimpulkan bahwa :\n",
    "- Variabel kategori dapat di-encode menggunakan one-hot encoding.\n",
    "- Variabel negara_asal dapat di-encode menggunakan binary encoding."
   ]
  },
  {
   "cell_type": "code",
   "execution_count": 29,
   "metadata": {},
   "outputs": [
    {
     "name": "stdout",
     "output_type": "stream",
     "text": [
      "<class 'pandas.core.frame.DataFrame'>\n",
      "RangeIndex: 550 entries, 0 to 549\n",
      "Data columns (total 12 columns):\n",
      " #   Column               Non-Null Count  Dtype  \n",
      "---  ------               --------------  -----  \n",
      " 0   produk_id            550 non-null    int64  \n",
      " 1   nama_produk          550 non-null    object \n",
      " 2   harga                550 non-null    float64\n",
      " 3   rating               550 non-null    float64\n",
      " 4   jumlah_ulasan        530 non-null    float64\n",
      " 5   negara_asal          550 non-null    object \n",
      " 6   kategori_Camera      550 non-null    bool   \n",
      " 7   kategori_Headphone   550 non-null    bool   \n",
      " 8   kategori_Laptop      550 non-null    bool   \n",
      " 9   kategori_Smartphone  550 non-null    bool   \n",
      " 10  kategori_Smartwatch  550 non-null    bool   \n",
      " 11  kategori_Tablet      550 non-null    bool   \n",
      "dtypes: bool(6), float64(3), int64(1), object(2)\n",
      "memory usage: 29.1+ KB\n"
     ]
    }
   ],
   "source": [
    "# One-hot encoding pada variabel kategori\n",
    "\n",
    "movie_data_encoded = pd.get_dummies(movie_data, columns=['kategori'], prefix='kategori')\n",
    "movie_data_encoded.info()"
   ]
  },
  {
   "cell_type": "code",
   "execution_count": 30,
   "metadata": {},
   "outputs": [
    {
     "name": "stdout",
     "output_type": "stream",
     "text": [
      "<class 'pandas.core.frame.DataFrame'>\n",
      "RangeIndex: 550 entries, 0 to 549\n",
      "Data columns (total 15 columns):\n",
      " #   Column               Non-Null Count  Dtype  \n",
      "---  ------               --------------  -----  \n",
      " 0   produk_id            550 non-null    int64  \n",
      " 1   nama_produk          550 non-null    object \n",
      " 2   harga                550 non-null    float64\n",
      " 3   rating               550 non-null    float64\n",
      " 4   jumlah_ulasan        530 non-null    float64\n",
      " 5   negara_asal_0        550 non-null    int64  \n",
      " 6   negara_asal_1        550 non-null    int64  \n",
      " 7   negara_asal_2        550 non-null    int64  \n",
      " 8   negara_asal_3        550 non-null    int64  \n",
      " 9   kategori_Camera      550 non-null    bool   \n",
      " 10  kategori_Headphone   550 non-null    bool   \n",
      " 11  kategori_Laptop      550 non-null    bool   \n",
      " 12  kategori_Smartphone  550 non-null    bool   \n",
      " 13  kategori_Smartwatch  550 non-null    bool   \n",
      " 14  kategori_Tablet      550 non-null    bool   \n",
      "dtypes: bool(6), float64(3), int64(5), object(1)\n",
      "memory usage: 42.0+ KB\n"
     ]
    }
   ],
   "source": [
    "# Binary encoding pada variabel negara_asal.\n",
    "\n",
    "# install module category_encoders jika belum ada di sistem dengan asumsi adanya package anaconda.\n",
    "import sys\n",
    "try:\n",
    "  import category_encoders\n",
    "except:\n",
    "  !conda install --yes --prefix {sys.prefix} category_encoders\n",
    "import category_encoders as ce\n",
    "\n",
    "encoder = ce.BinaryEncoder(cols=['negara_asal'])\n",
    "movie_data_encoded = encoder.fit_transform(movie_data_encoded)\n",
    "movie_data_encoded.info()"
   ]
  },
  {
   "cell_type": "markdown",
   "metadata": {},
   "source": [
    "Didapat sebuah dataset baru dengan : \n",
    "- Variabel negara_asal ter-encode menjadi 4 variabel dan\n",
    "- Variabel kategori ter-encode menjadi 6 variabel."
   ]
  },
  {
   "cell_type": "code",
   "execution_count": 31,
   "metadata": {},
   "outputs": [
    {
     "data": {
      "text/html": [
       "<div>\n",
       "<style scoped>\n",
       "    .dataframe tbody tr th:only-of-type {\n",
       "        vertical-align: middle;\n",
       "    }\n",
       "\n",
       "    .dataframe tbody tr th {\n",
       "        vertical-align: top;\n",
       "    }\n",
       "\n",
       "    .dataframe thead th {\n",
       "        text-align: right;\n",
       "    }\n",
       "</style>\n",
       "<table border=\"1\" class=\"dataframe\">\n",
       "  <thead>\n",
       "    <tr style=\"text-align: right;\">\n",
       "      <th></th>\n",
       "      <th>produk_id</th>\n",
       "      <th>nama_produk</th>\n",
       "      <th>harga</th>\n",
       "      <th>rating</th>\n",
       "      <th>jumlah_ulasan</th>\n",
       "      <th>negara_asal_0</th>\n",
       "      <th>negara_asal_1</th>\n",
       "      <th>negara_asal_2</th>\n",
       "      <th>negara_asal_3</th>\n",
       "      <th>kategori_Camera</th>\n",
       "      <th>kategori_Headphone</th>\n",
       "      <th>kategori_Laptop</th>\n",
       "      <th>kategori_Smartphone</th>\n",
       "      <th>kategori_Smartwatch</th>\n",
       "      <th>kategori_Tablet</th>\n",
       "    </tr>\n",
       "  </thead>\n",
       "  <tbody>\n",
       "    <tr>\n",
       "      <th>0</th>\n",
       "      <td>1</td>\n",
       "      <td>Produk_1</td>\n",
       "      <td>746.0</td>\n",
       "      <td>4.2</td>\n",
       "      <td>273.0</td>\n",
       "      <td>0</td>\n",
       "      <td>0</td>\n",
       "      <td>0</td>\n",
       "      <td>1</td>\n",
       "      <td>False</td>\n",
       "      <td>False</td>\n",
       "      <td>False</td>\n",
       "      <td>False</td>\n",
       "      <td>True</td>\n",
       "      <td>False</td>\n",
       "    </tr>\n",
       "    <tr>\n",
       "      <th>1</th>\n",
       "      <td>2</td>\n",
       "      <td>Produk_2</td>\n",
       "      <td>241.0</td>\n",
       "      <td>3.5</td>\n",
       "      <td>239.0</td>\n",
       "      <td>0</td>\n",
       "      <td>0</td>\n",
       "      <td>1</td>\n",
       "      <td>0</td>\n",
       "      <td>False</td>\n",
       "      <td>True</td>\n",
       "      <td>False</td>\n",
       "      <td>False</td>\n",
       "      <td>False</td>\n",
       "      <td>False</td>\n",
       "    </tr>\n",
       "    <tr>\n",
       "      <th>2</th>\n",
       "      <td>3</td>\n",
       "      <td>Produk_3</td>\n",
       "      <td>810.0</td>\n",
       "      <td>3.8</td>\n",
       "      <td>209.0</td>\n",
       "      <td>0</td>\n",
       "      <td>0</td>\n",
       "      <td>1</td>\n",
       "      <td>0</td>\n",
       "      <td>False</td>\n",
       "      <td>False</td>\n",
       "      <td>False</td>\n",
       "      <td>False</td>\n",
       "      <td>False</td>\n",
       "      <td>True</td>\n",
       "    </tr>\n",
       "    <tr>\n",
       "      <th>3</th>\n",
       "      <td>4</td>\n",
       "      <td>Produk_4</td>\n",
       "      <td>303.0</td>\n",
       "      <td>3.2</td>\n",
       "      <td>59.0</td>\n",
       "      <td>0</td>\n",
       "      <td>0</td>\n",
       "      <td>1</td>\n",
       "      <td>1</td>\n",
       "      <td>False</td>\n",
       "      <td>True</td>\n",
       "      <td>False</td>\n",
       "      <td>False</td>\n",
       "      <td>False</td>\n",
       "      <td>False</td>\n",
       "    </tr>\n",
       "    <tr>\n",
       "      <th>4</th>\n",
       "      <td>5</td>\n",
       "      <td>Produk_5</td>\n",
       "      <td>252.0</td>\n",
       "      <td>3.7</td>\n",
       "      <td>76.0</td>\n",
       "      <td>0</td>\n",
       "      <td>0</td>\n",
       "      <td>1</td>\n",
       "      <td>1</td>\n",
       "      <td>False</td>\n",
       "      <td>True</td>\n",
       "      <td>False</td>\n",
       "      <td>False</td>\n",
       "      <td>False</td>\n",
       "      <td>False</td>\n",
       "    </tr>\n",
       "  </tbody>\n",
       "</table>\n",
       "</div>"
      ],
      "text/plain": [
       "   produk_id nama_produk  harga  rating  jumlah_ulasan  negara_asal_0  \\\n",
       "0          1    Produk_1  746.0     4.2          273.0              0   \n",
       "1          2    Produk_2  241.0     3.5          239.0              0   \n",
       "2          3    Produk_3  810.0     3.8          209.0              0   \n",
       "3          4    Produk_4  303.0     3.2           59.0              0   \n",
       "4          5    Produk_5  252.0     3.7           76.0              0   \n",
       "\n",
       "   negara_asal_1  negara_asal_2  negara_asal_3  kategori_Camera  \\\n",
       "0              0              0              1            False   \n",
       "1              0              1              0            False   \n",
       "2              0              1              0            False   \n",
       "3              0              1              1            False   \n",
       "4              0              1              1            False   \n",
       "\n",
       "   kategori_Headphone  kategori_Laptop  kategori_Smartphone  \\\n",
       "0               False            False                False   \n",
       "1                True            False                False   \n",
       "2               False            False                False   \n",
       "3                True            False                False   \n",
       "4                True            False                False   \n",
       "\n",
       "   kategori_Smartwatch  kategori_Tablet  \n",
       "0                 True            False  \n",
       "1                False            False  \n",
       "2                False             True  \n",
       "3                False            False  \n",
       "4                False            False  "
      ]
     },
     "execution_count": 31,
     "metadata": {},
     "output_type": "execute_result"
    }
   ],
   "source": [
    "movie_data_encoded.head()"
   ]
  }
 ],
 "metadata": {
  "kernelspec": {
   "display_name": "base",
   "language": "python",
   "name": "python3"
  },
  "language_info": {
   "codemirror_mode": {
    "name": "ipython",
    "version": 3
   },
   "file_extension": ".py",
   "mimetype": "text/x-python",
   "name": "python",
   "nbconvert_exporter": "python",
   "pygments_lexer": "ipython3",
   "version": "3.12.7"
  }
 },
 "nbformat": 4,
 "nbformat_minor": 2
}
